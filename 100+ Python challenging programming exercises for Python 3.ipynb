{
 "cells": [
  {
   "cell_type": "markdown",
   "metadata": {},
   "source": [
    "## 100+ Python challenging programming exercises for Python 3"
   ]
  },
  {
   "cell_type": "markdown",
   "metadata": {},
   "source": [
    "### Question 1\n",
    "Write a program which will find all such numbers which are divisible by 7 but are not a multiple of 5, between 2000 and 3200 (both included).\n",
    "The numbers obtained should be printed in a comma-separated sequence on a single line.\n",
    "\n",
    "Hints: \n",
    "Consider use range(#begin, #end) method"
   ]
  },
  {
   "cell_type": "code",
   "execution_count": null,
   "metadata": {},
   "outputs": [],
   "source": [
    "numbers = []\n",
    "for number in range(2000, 3201):\n",
    "  if number % 7 == 0 and number % 5 != 0:\n",
    "    numbers.append(str(number))\n",
    "\n",
    "print(','.join(numbers))"
   ]
  },
  {
   "cell_type": "markdown",
   "metadata": {},
   "source": [
    "### Question 2\n",
    "Write a program which can compute the factorial of a given numbers.\n",
    "The results should be printed in a comma-separated sequence on a single line.\n",
    "Suppose the following input is supplied to the program:\n",
    "8\n",
    "Then, the output should be:\n",
    "40320\n",
    "\n",
    "Hints:\n",
    "In case of input data being supplied to the question, it should be assumed to be a console input."
   ]
  },
  {
   "cell_type": "markdown",
   "metadata": {},
   "source": [
    "#### Option 1:"
   ]
  },
  {
   "cell_type": "code",
   "execution_count": null,
   "metadata": {},
   "outputs": [],
   "source": [
    "def factorial(num):\n",
    "    if num == 0:\n",
    "        return 1\n",
    "    return num * factorial(num - 1)\n",
    "\n",
    "num = int(input('Enter an inger: '))\n",
    "\n",
    "print(f'The factorial of number {num} is {factorial(num)}.')"
   ]
  },
  {
   "cell_type": "markdown",
   "metadata": {},
   "source": [
    "#### Option 2:"
   ]
  },
  {
   "cell_type": "code",
   "execution_count": null,
   "metadata": {},
   "outputs": [],
   "source": [
    "def factorial(num):\n",
    "  fact = 1\n",
    "  if num == 0:\n",
    "    return 1\n",
    "  else:\n",
    "    for i in range (1, int(num) + 1):\n",
    "      fact = fact * i\n",
    "    return fact\n",
    "\n",
    "num = int(input('Enter an inger: '))\n",
    "\n",
    "print(f'The factorial of number {num} is {factorial(num)}.')"
   ]
  },
  {
   "cell_type": "markdown",
   "metadata": {},
   "source": [
    "### Question 3\n",
    "With a given integral number n, write a program to generate a dictionary that contains (i, i*i) such that is an integral number between 1 and n (both included). and then the program should print the dictionary.\n",
    "\n",
    "Hints:\n",
    "In case of input data being supplied to the question, it should be assumed to be a console input.\n",
    "Consider use dict()"
   ]
  },
  {
   "cell_type": "code",
   "execution_count": null,
   "metadata": {},
   "outputs": [],
   "source": [
    "print('Enter \"q\" to exit.')\n",
    "\n",
    "number_square = {}\n",
    "while True:\n",
    "  user_input = (input('Enter an integer: '))\n",
    "\n",
    "  if user_input.lower() == 'q':\n",
    "    break    \n",
    "\n",
    "  if user_input.isdigit():\n",
    "    user_number = int(user_input)\n",
    "  else:\n",
    "    print(f'Entered value \"{user_input}\" is not an integer.')\n",
    "    continue\n",
    "\n",
    "  for i in range(1, user_number+1):\n",
    "    number_square[user_number] = i*i\n",
    "\n",
    "if number_square:\n",
    "  print('\\nPrinting the results\\n...') \n",
    "  for key, value in number_square.items():\n",
    "    print(f'{key}: {value}')    \n",
    "else:\n",
    "  print('\\nYou didn\\'t enter any number.')"
   ]
  },
  {
   "cell_type": "markdown",
   "metadata": {},
   "source": [
    "### Question 4"
   ]
  },
  {
   "cell_type": "code",
   "execution_count": null,
   "metadata": {},
   "outputs": [],
   "source": []
  }
 ],
 "metadata": {
  "kernelspec": {
   "display_name": "Python 3",
   "language": "python",
   "name": "python3"
  },
  "language_info": {
   "codemirror_mode": {
    "name": "ipython",
    "version": 3
   },
   "file_extension": ".py",
   "mimetype": "text/x-python",
   "name": "python",
   "nbconvert_exporter": "python",
   "pygments_lexer": "ipython3",
   "version": "3.7.8"
  }
 },
 "nbformat": 4,
 "nbformat_minor": 4
}
